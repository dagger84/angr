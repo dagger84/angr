{
 "cells": [
  {
   "cell_type": "code",
   "execution_count": 1,
   "id": "governing-phrase",
   "metadata": {},
   "outputs": [
    {
     "name": "stderr",
     "output_type": "stream",
     "text": [
      "WARNING | 2021-03-22 00:21:21,992 | \u001b[36mcle.loader\u001b[0m | \u001b[36mThe main binary is a position-independent executable. It is being loaded with a base address of 0x400000.\u001b[0m\n"
     ]
    }
   ],
   "source": [
    "import angr\n",
    "proj = angr.Project(\"/bin/true\")"
   ]
  },
  {
   "cell_type": "markdown",
   "id": "arctic-monitor",
   "metadata": {},
   "source": [
    "## basic properties"
   ]
  },
  {
   "cell_type": "code",
   "execution_count": 21,
   "id": "divine-sender",
   "metadata": {},
   "outputs": [],
   "source": [
    "def bin_info(proj):\n",
    "    print(f\"[file::{proj.filename}]\")\n",
    "    print(f\"proj.arch = {proj.arch}\")\n",
    "    print(f\"\\tbits  = {proj.arch.bits}\")\n",
    "    print(f\"\\tbytes = {proj.arch.bytes}\")\n",
    "    print(f\"proj.entry = {hex(proj.entry)}\")\n",
    "    \n",
    "    # loader information\n",
    "    \n",
    "    print()\n",
    "    print(f\"[main_object::{proj.loader.main_object}\")\n",
    "    print(f\"execstack? {proj.loader.main_object.execstack}\")\n",
    "    print(f\"pie?       {proj.loader.main_object.pic}\")"
   ]
  },
  {
   "cell_type": "code",
   "execution_count": 22,
   "id": "recognized-diesel",
   "metadata": {},
   "outputs": [
    {
     "name": "stdout",
     "output_type": "stream",
     "text": [
      "[file::/bin/true]\n",
      "proj.arch = <Arch AMD64 (LE)>\n",
      "\tbits  = 64\n",
      "\tbytes = 8\n",
      "proj.entry = 0x4023c0\n",
      "\n",
      "[main_object::<ELF Object true, maps [0x400000:0x40a377]>\n",
      "execstack? False\n",
      "pie?       True\n"
     ]
    }
   ],
   "source": [
    "bin_info(proj)"
   ]
  },
  {
   "cell_type": "markdown",
   "id": "honest-freedom",
   "metadata": {},
   "source": [
    "## the loader"
   ]
  },
  {
   "cell_type": "code",
   "execution_count": 18,
   "id": "complimentary-adolescent",
   "metadata": {},
   "outputs": [
    {
     "name": "stdout",
     "output_type": "stream",
     "text": [
      "<Loaded true, maps [0x400000:0xa07fff]>\n",
      "true                     <ELF Object true, maps [0x400000:0x40a377]>\n",
      "libc.so.6                <ELF Object libc-2.31.so, maps [0x500000:0x6c4507]>\n",
      "ld-linux-x86-64.so.2     <ELF Object ld-2.31.so, maps [0x700000:0x72c177]>\n",
      "extern-address space     <ExternObject Object cle##externs, maps [0x800000:0x87ffff]>\n",
      "cle##tls                 <ELFTLSObjectV2 Object cle##tls, maps [0x900000:0x91500f]>\n",
      "0x400000\n",
      "0xa07fff\n",
      "<ELF Object true, maps [0x400000:0x40a377]>\n"
     ]
    }
   ],
   "source": [
    "print(proj.loader)\n",
    "for k, v in proj.loader.shared_objects.items():\n",
    "    print(f\"{k: <25}{v}\")\n",
    "print(hex(proj.loader.min_addr))\n",
    "print(hex(proj.loader.max_addr))"
   ]
  },
  {
   "cell_type": "markdown",
   "id": "maritime-novelty",
   "metadata": {},
   "source": [
    "## the factory"
   ]
  },
  {
   "cell_type": "markdown",
   "id": "preliminary-search",
   "metadata": {},
   "source": [
    "### blocks"
   ]
  },
  {
   "cell_type": "code",
   "execution_count": 23,
   "id": "moderate-party",
   "metadata": {},
   "outputs": [],
   "source": [
    "block = proj.factory.block(proj.entry)"
   ]
  },
  {
   "cell_type": "code",
   "execution_count": 25,
   "id": "scientific-pierre",
   "metadata": {},
   "outputs": [
    {
     "name": "stdout",
     "output_type": "stream",
     "text": [
      "0x4023c0:\txor\tebp, ebp\n",
      "0x4023c2:\tmov\tr9, rdx\n",
      "0x4023c5:\tpop\trsi\n",
      "0x4023c6:\tmov\trdx, rsp\n",
      "0x4023c9:\tand\trsp, 0xfffffffffffffff0\n",
      "0x4023cd:\tpush\trax\n",
      "0x4023ce:\tpush\trsp\n",
      "0x4023cf:\tlea\tr8, [rip + 0x34ba]\n",
      "0x4023d6:\tlea\trcx, [rip + 0x3453]\n",
      "0x4023dd:\tlea\trdi, [rip - 0xe4]\n",
      "0x4023e4:\tcall\tqword ptr [rip + 0x7bf6]\n"
     ]
    }
   ],
   "source": [
    "block.pp()"
   ]
  },
  {
   "cell_type": "code",
   "execution_count": 26,
   "id": "developing-james",
   "metadata": {},
   "outputs": [
    {
     "data": {
      "text/plain": [
       "11"
      ]
     },
     "execution_count": 26,
     "metadata": {},
     "output_type": "execute_result"
    }
   ],
   "source": [
    "block.instructions"
   ]
  },
  {
   "cell_type": "markdown",
   "id": "every-jefferson",
   "metadata": {},
   "source": [
    "### states"
   ]
  },
  {
   "cell_type": "code",
   "execution_count": 27,
   "id": "collected-helena",
   "metadata": {},
   "outputs": [],
   "source": [
    "state = proj.factory.entry_state()"
   ]
  },
  {
   "cell_type": "code",
   "execution_count": 30,
   "id": "recognized-transcription",
   "metadata": {},
   "outputs": [
    {
     "data": {
      "text/plain": [
       "<BV64 0x4023c0>"
      ]
     },
     "execution_count": 30,
     "metadata": {},
     "output_type": "execute_result"
    }
   ],
   "source": [
    "state.regs.rip"
   ]
  },
  {
   "cell_type": "code",
   "execution_count": 31,
   "id": "ancient-combine",
   "metadata": {},
   "outputs": [
    {
     "data": {
      "text/plain": [
       "<BV64 0x1c>"
      ]
     },
     "execution_count": 31,
     "metadata": {},
     "output_type": "execute_result"
    }
   ],
   "source": [
    "state.regs.rax"
   ]
  },
  {
   "cell_type": "code",
   "execution_count": 34,
   "id": "authorized-share",
   "metadata": {},
   "outputs": [
    {
     "data": {
      "text/plain": [
       "<BV32 0x8949ed31>"
      ]
     },
     "execution_count": 34,
     "metadata": {},
     "output_type": "execute_result"
    }
   ],
   "source": [
    "state.mem[proj.entry].int.resolved"
   ]
  },
  {
   "cell_type": "code",
   "execution_count": 36,
   "id": "gorgeous-intent",
   "metadata": {},
   "outputs": [
    {
     "data": {
      "text/plain": [
       "<BV32 0x1234>"
      ]
     },
     "execution_count": 36,
     "metadata": {},
     "output_type": "execute_result"
    }
   ],
   "source": [
    "bv = state.solver.BVV(0x1234, 32)\n",
    "bv"
   ]
  },
  {
   "cell_type": "code",
   "execution_count": 37,
   "id": "studied-throat",
   "metadata": {},
   "outputs": [
    {
     "data": {
      "text/plain": [
       "4660"
      ]
     },
     "execution_count": 37,
     "metadata": {},
     "output_type": "execute_result"
    }
   ],
   "source": [
    "state.solver.eval(bv)"
   ]
  },
  {
   "cell_type": "code",
   "execution_count": 40,
   "id": "behavioral-venezuela",
   "metadata": {},
   "outputs": [
    {
     "data": {
      "text/plain": [
       "<BV64 0x3>"
      ]
     },
     "execution_count": 40,
     "metadata": {},
     "output_type": "execute_result"
    }
   ],
   "source": [
    "state.regs.rsi = state.solver.BVV(3, 64)\n",
    "state.regs.rsi"
   ]
  },
  {
   "cell_type": "code",
   "execution_count": 42,
   "id": "statistical-worship",
   "metadata": {},
   "outputs": [
    {
     "data": {
      "text/plain": [
       "<BV64 0x4>"
      ]
     },
     "execution_count": 42,
     "metadata": {},
     "output_type": "execute_result"
    }
   ],
   "source": [
    "state.mem[0x1000].long = 4\n",
    "state.mem[0x1000].long.resolved"
   ]
  },
  {
   "cell_type": "markdown",
   "id": "incorrect-florist",
   "metadata": {},
   "source": [
    "### simulation managers"
   ]
  },
  {
   "cell_type": "code",
   "execution_count": 46,
   "id": "developing-model",
   "metadata": {},
   "outputs": [],
   "source": [
    "simgr = proj.factory.simulation_manager(state)"
   ]
  },
  {
   "cell_type": "code",
   "execution_count": 47,
   "id": "substantial-contrast",
   "metadata": {},
   "outputs": [
    {
     "data": {
      "text/plain": [
       "<SimulationManager with 1 active>"
      ]
     },
     "execution_count": 47,
     "metadata": {},
     "output_type": "execute_result"
    }
   ],
   "source": [
    "simgr"
   ]
  },
  {
   "cell_type": "code",
   "execution_count": 51,
   "id": "primary-layer",
   "metadata": {},
   "outputs": [
    {
     "data": {
      "text/plain": [
       "[<SimState @ 0x4023c0>]"
      ]
     },
     "execution_count": 51,
     "metadata": {},
     "output_type": "execute_result"
    }
   ],
   "source": [
    "simgr.active"
   ]
  },
  {
   "cell_type": "code",
   "execution_count": 52,
   "id": "african-second",
   "metadata": {},
   "outputs": [
    {
     "data": {
      "text/plain": [
       "<SimulationManager with 1 active>"
      ]
     },
     "execution_count": 52,
     "metadata": {},
     "output_type": "execute_result"
    }
   ],
   "source": [
    "simgr.step()"
   ]
  },
  {
   "cell_type": "code",
   "execution_count": 54,
   "id": "isolated-guard",
   "metadata": {},
   "outputs": [
    {
     "data": {
      "text/plain": [
       "[<SimState @ 0x526c20>]"
      ]
     },
     "execution_count": 54,
     "metadata": {},
     "output_type": "execute_result"
    }
   ],
   "source": [
    "simgr.active"
   ]
  },
  {
   "cell_type": "code",
   "execution_count": 55,
   "id": "upper-scene",
   "metadata": {},
   "outputs": [
    {
     "data": {
      "text/plain": [
       "<BV64 0x526c20>"
      ]
     },
     "execution_count": 55,
     "metadata": {},
     "output_type": "execute_result"
    }
   ],
   "source": [
    "simgr.active[0].regs.rip"
   ]
  },
  {
   "cell_type": "code",
   "execution_count": 56,
   "id": "decent-correspondence",
   "metadata": {},
   "outputs": [
    {
     "data": {
      "text/plain": [
       "<BV64 0x4023c0>"
      ]
     },
     "execution_count": 56,
     "metadata": {},
     "output_type": "execute_result"
    }
   ],
   "source": [
    "state.regs.rip"
   ]
  },
  {
   "cell_type": "markdown",
   "id": "interested-technique",
   "metadata": {},
   "source": [
    "## analyses"
   ]
  },
  {
   "cell_type": "code",
   "execution_count": 57,
   "id": "recreational-circus",
   "metadata": {},
   "outputs": [
    {
     "name": "stderr",
     "output_type": "stream",
     "text": [
      "WARNING | 2021-03-22 00:48:58,798 | \u001b[36mcle.loader\u001b[0m | \u001b[36mThe main binary is a position-independent executable. It is being loaded with a base address of 0x400000.\u001b[0m\n",
      "WARNING | 2021-03-22 00:48:58,807 | \u001b[37mangr.analyses.cfg.cfg_base\u001b[0m | \u001b[37m_is_region_extremely_sparse: The given region 0x4058b0-0x4058b9 is not a continuous memory region in the memory space. Only the first 9 bytes (0x4058b0-0x4058b8) are processed.\u001b[0m\n"
     ]
    }
   ],
   "source": [
    "# constructing a control flow graph\n",
    "proj = angr.Project(\"/bin/true\", auto_load_libs=False)\n",
    "cfg = proj.analyses.CFGFast()"
   ]
  },
  {
   "cell_type": "code",
   "execution_count": 59,
   "id": "impressed-philip",
   "metadata": {},
   "outputs": [
    {
     "data": {
      "text/plain": [
       "<networkx.classes.digraph.DiGraph at 0x7fd47e0b0e10>"
      ]
     },
     "execution_count": 59,
     "metadata": {},
     "output_type": "execute_result"
    }
   ],
   "source": [
    "cfg.graph"
   ]
  },
  {
   "cell_type": "code",
   "execution_count": 60,
   "id": "sunset-venezuela",
   "metadata": {},
   "outputs": [
    {
     "data": {
      "text/plain": [
       "1085"
      ]
     },
     "execution_count": 60,
     "metadata": {},
     "output_type": "execute_result"
    }
   ],
   "source": [
    "len(cfg.graph.nodes())"
   ]
  },
  {
   "cell_type": "code",
   "execution_count": 63,
   "id": "classical-tomato",
   "metadata": {},
   "outputs": [],
   "source": [
    "entry_node = cfg.model.get_any_node(proj.entry)"
   ]
  },
  {
   "cell_type": "code",
   "execution_count": 66,
   "id": "educational-trademark",
   "metadata": {},
   "outputs": [
    {
     "data": {
      "text/plain": [
       "1"
      ]
     },
     "execution_count": 66,
     "metadata": {},
     "output_type": "execute_result"
    }
   ],
   "source": [
    "len(list(cfg.graph.successors(entry_node)))"
   ]
  },
  {
   "cell_type": "code",
   "execution_count": null,
   "id": "automated-colombia",
   "metadata": {},
   "outputs": [],
   "source": []
  }
 ],
 "metadata": {
  "kernelspec": {
   "display_name": "Python 3",
   "language": "python",
   "name": "python3"
  },
  "language_info": {
   "codemirror_mode": {
    "name": "ipython",
    "version": 3
   },
   "file_extension": ".py",
   "mimetype": "text/x-python",
   "name": "python",
   "nbconvert_exporter": "python",
   "pygments_lexer": "ipython3",
   "version": "3.7.10"
  }
 },
 "nbformat": 4,
 "nbformat_minor": 5
}
